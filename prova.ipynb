{
 "cells": [
  {
   "cell_type": "code",
   "execution_count": 225,
   "metadata": {},
   "outputs": [],
   "source": [
    "class conta():\n",
    "    total_de_contas = 0\n",
    "\n",
    "    def __init__(self, nome, numero):\n",
    "        self.nome = nome\n",
    "        self.numero = numero\n",
    "        self.saldo = 0.0\n",
    "        conta.total_de_contas += 1 \n",
    "\n",
    "    def deposito (self, valor:float):\n",
    "        if valor > 0:\n",
    "           self.saldo += valor\n",
    "           print (\"Depósito realizado!\")\n",
    "        else:\n",
    "           print(\"Não tem saldo pra realizar o depósito.\")\n",
    "    \n",
    "    def sacar (self, valor:float) -> bool:\n",
    "        if self.saldo > 0 and valor > 0:\n",
    "            self.saldo -= valor\n",
    "            print(\"Saque realizado!\")\n",
    "            return True\n",
    "        else:\n",
    "            print(\"Não foi possível realizar o saque.\")\n",
    "            return False\n",
    "\n",
    "    def transferir (self, destino: conta, valor:float):\n",
    "        if valor > 0:\n",
    "            if self.saldo > 0:\n",
    "                destino.deposito(valor) \n",
    "                self.saldo -= (valor)\n",
    "                print(f\"Transferência de R${valor} realizada para a conta {destino.numero}.\")\n",
    "            else:\n",
    "                print(\"Saldo insuficiente.\")\n",
    "        else:\n",
    "            print(\"Não é possível realizar a transferência.\")\n",
    "\n",
    "    def get_nome(self):\n",
    "        return self.nome\n",
    "    \n",
    "    def get_numero(self):\n",
    "        return self.numero\n",
    "    \n",
    "    def get_saldo(self):\n",
    "        return self.saldo\n",
    "    \n",
    "    @classmethod\n",
    "    def get_total_de_contas(cls):\n",
    "        return cls.total_de_contas\n",
    "    "
   ]
  },
  {
   "cell_type": "code",
   "execution_count": 226,
   "metadata": {},
   "outputs": [],
   "source": [
    "conta1 = conta(\"Cauane\", 123)\n",
    "conta2 = conta(\"Natalia\", 456)\n",
    "conta3 = conta(\"Samantha\", 789)"
   ]
  },
  {
   "cell_type": "code",
   "execution_count": 227,
   "metadata": {},
   "outputs": [
    {
     "name": "stdout",
     "output_type": "stream",
     "text": [
      "Depósito realizado!\n",
      "Depósito realizado!\n",
      "Depósito realizado!\n"
     ]
    }
   ],
   "source": [
    "conta1.deposito(100)\n",
    "conta2.deposito(200)\n",
    "conta3.deposito(300)"
   ]
  },
  {
   "cell_type": "code",
   "execution_count": 228,
   "metadata": {},
   "outputs": [
    {
     "name": "stdout",
     "output_type": "stream",
     "text": [
      "Saque realizado!\n",
      "Saque realizado!\n",
      "Saque realizado!\n"
     ]
    },
    {
     "data": {
      "text/plain": [
       "True"
      ]
     },
     "execution_count": 228,
     "metadata": {},
     "output_type": "execute_result"
    }
   ],
   "source": [
    "conta1.sacar(50)\n",
    "conta2.sacar(20)\n",
    "conta3.sacar(30)"
   ]
  },
  {
   "cell_type": "code",
   "execution_count": 229,
   "metadata": {},
   "outputs": [
    {
     "name": "stdout",
     "output_type": "stream",
     "text": [
      "Depósito realizado!\n",
      "Transferência de R$35 realizada para a conta 456.\n"
     ]
    }
   ],
   "source": [
    "conta1.transferir(conta2, 35)"
   ]
  },
  {
   "cell_type": "code",
   "execution_count": 230,
   "metadata": {},
   "outputs": [
    {
     "name": "stdout",
     "output_type": "stream",
     "text": [
      "Saldo da conta 1: 15.0\n",
      "Saldo da conta 2: 215.0\n",
      "Saldo da conta 3: 270.0\n"
     ]
    }
   ],
   "source": [
    "print(f\"Saldo da conta 1: {conta1.get_saldo()}\")\n",
    "print(f\"Saldo da conta 2: {conta2.get_saldo()}\")\n",
    "print(f\"Saldo da conta 3: {conta3.get_saldo()}\")"
   ]
  },
  {
   "cell_type": "code",
   "execution_count": 231,
   "metadata": {},
   "outputs": [
    {
     "name": "stdout",
     "output_type": "stream",
     "text": [
      "Total de contas: 3\n"
     ]
    }
   ],
   "source": [
    "print(f\"Total de contas: {conta.get_total_de_contas()}\")"
   ]
  }
 ],
 "metadata": {
  "kernelspec": {
   "display_name": "Python 3",
   "language": "python",
   "name": "python3"
  },
  "language_info": {
   "codemirror_mode": {
    "name": "ipython",
    "version": 3
   },
   "file_extension": ".py",
   "mimetype": "text/x-python",
   "name": "python",
   "nbconvert_exporter": "python",
   "pygments_lexer": "ipython3",
   "version": "3.13.0"
  }
 },
 "nbformat": 4,
 "nbformat_minor": 2
}
